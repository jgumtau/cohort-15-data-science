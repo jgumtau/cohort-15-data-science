{
  "cells": [
    {
      "cell_type": "markdown",
      "metadata": {
        "id": "view-in-github",
        "colab_type": "text"
      },
      "source": [
        "<a href=\"https://colab.research.google.com/github/jgumtau/cohort-15-data-science/blob/main/(factum)2a_Games.ipynb\" target=\"_parent\"><img src=\"https://colab.research.google.com/assets/colab-badge.svg\" alt=\"Open In Colab\"/></a>"
      ]
    },
    {
      "cell_type": "markdown",
      "metadata": {
        "id": "3qFIw9UckPOW"
      },
      "source": [
        "# Python Exercises - Games"
      ]
    },
    {
      "cell_type": "code",
      "source": [
        "import random"
      ],
      "metadata": {
        "id": "uZV2HCz-E9g7"
      },
      "execution_count": null,
      "outputs": []
    },
    {
      "cell_type": "markdown",
      "metadata": {
        "id": "Oh_ShY9jhqhI"
      },
      "source": [
        "Build each of the following games in Python:\n",
        "\n",
        "1. **Rock, Paper, Scissors** - In this game, the user will be playing Rock, Paper, Scissors against the computer. Your code should request input from the user and it should randomly generate a choice for the computer. It should print out the winner along with a message about how they won (e.g., \"The computer won. Scissor cuts paper\").\n",
        "\n",
        "2. **MadLibs** - In this game, you will request string input from the user (adjectives, nouns, verbs, etc.) and then you will use that input to generate and print out a MadLibs story. Make sure to format the string input so that it looks nice in your story.\n",
        "\n",
        "3. **Number Guesser** - This is a simple guessing game where the computer will generate a random number between 1 to 10, and the user has to guess it in 5 attempts. Based on the user’s guess, the computer will give a hint if the number is high or low. When the user correctly guesses, print the answer along with the number of attempts.\n"
      ]
    },
    {
      "cell_type": "markdown",
      "metadata": {
        "id": "bYSTNPA6b5o1"
      },
      "source": [
        "## Rock, Paper, Scissors"
      ]
    },
    {
      "cell_type": "code",
      "execution_count": null,
      "metadata": {
        "id": "p81qeawokOb_"
      },
      "outputs": [],
      "source": [
        "def rock_paper_scissors():\n",
        "  \"\"\"\n",
        "  Play Rock, Paper, Scissors against the computer.\n",
        "  \"\"\"\n",
        "\n",
        "  user_choice = input(\"Enter your choice (rock, paper, scissors): \")\n",
        "  user_choice = user_choice.lower()\n",
        "  computer_choice = random.choice(['rock', 'paper', 'scissors'])\n",
        "  print(\"Computer chose:\", computer_choice)\n",
        "\n",
        "  if user_choice == computer_choice:\n",
        "    print(\"It's a tie!\")\n",
        "\n",
        "  elif user_choice == 'rock':\n",
        "    if computer_choice == 'scissors':\n",
        "      print(\"You win!\")\n",
        "    elif computer_choice == 'paper':\n",
        "      print(\"Computer wins!\")\n",
        "\n",
        "  elif user_choice == 'paper':\n",
        "    if computer_choice == 'rock':\n",
        "      print(\"You win!\")\n",
        "    elif computer_choice == 'scissors':\n",
        "      print(\"Computer wins!\")\n",
        "\n",
        "  elif user_choice == 'scissors':\n",
        "    if computer_choice == 'paper':\n",
        "      print(\"You win!\")\n",
        "    elif computer_choice == 'rock':\n",
        "      print(\"Computer wins!\")\n",
        "\n",
        "\n",
        "    else:\n",
        "      print(\"Invalid choice. Please choose rock, paper, or scissors.\")"
      ]
    },
    {
      "cell_type": "code",
      "source": [
        "rock_paper_scissors()"
      ],
      "metadata": {
        "id": "GiG_BAfoEqVW",
        "outputId": "3981aed5-acf7-4518-fdee-e0c33aaa260d",
        "colab": {
          "base_uri": "https://localhost:8080/"
        }
      },
      "execution_count": null,
      "outputs": [
        {
          "output_type": "stream",
          "name": "stdout",
          "text": [
            "Enter your choice (rock, paper, scissors): rock\n",
            "Computer chose: scissors\n",
            "You win!\n"
          ]
        }
      ]
    },
    {
      "cell_type": "code",
      "source": [
        "def dict_rock_paper_scissors():\n",
        "  \"\"\"\n",
        "  Play Rock, Paper, Scissors against the computer.\n",
        "  \"\"\"\n",
        "\n",
        "  user_choice = input(\"Enter your choice (rock, paper, scissors): \")\n",
        "  user_choice = user_choice.lower()\n",
        "  computer_choice = random.choice(['rock', 'paper', 'scissors'])\n",
        "  print(\"Computer chose:\", computer_choice)\n",
        "\n",
        "  rules = {\n",
        "      # first is user choice, second is computer choice\n",
        "      ('rock', 'scissors'): 'You win!',\n",
        "      ('scissors', 'paper'): 'You win!',\n",
        "      ('paper', 'rock'): 'You win!',\n",
        "      ('rock', 'paper'): 'Computer wins!',\n",
        "      ('scissors', 'rock'): 'Computer wins!',\n",
        "      ('paper', 'scissors'): 'Computer wins!',\n",
        "      ('paper', 'paper'): 'It\\'s a tie!',\n",
        "      ('rock', 'rock'): 'It\\'s a tie!',\n",
        "      ('scissors', 'scissors'): 'It\\'s a tie!',\n",
        "          }\n",
        "\n",
        "  if (user_choice, computer_choice) in rules:\n",
        "    print(rules[(user_choice, computer_choice)])\n",
        "\n",
        "  else:\n",
        "    print(\"Invalid choice. Please choose rock, paper, or scissors.\")"
      ],
      "metadata": {
        "id": "ZZ8-5sJANuYj"
      },
      "execution_count": null,
      "outputs": []
    },
    {
      "cell_type": "code",
      "source": [
        "dict_rock_paper_scissors()"
      ],
      "metadata": {
        "colab": {
          "base_uri": "https://localhost:8080/"
        },
        "id": "ccL1hZM2PIgJ",
        "outputId": "e8dd9365-2f1e-45a4-cc3a-11e4ee12a06b"
      },
      "execution_count": null,
      "outputs": [
        {
          "output_type": "stream",
          "name": "stdout",
          "text": [
            "Enter your choice (rock, paper, scissors): rock\n",
            "Computer chose: paper\n",
            "Computer wins!\n"
          ]
        }
      ]
    },
    {
      "cell_type": "markdown",
      "metadata": {
        "id": "nBf5ycggcBDI"
      },
      "source": [
        "## MadLibs"
      ]
    },
    {
      "cell_type": "code",
      "execution_count": null,
      "metadata": {
        "id": "gB3Ru_alcCp7"
      },
      "outputs": [],
      "source": [
        "def madlibs():\n",
        "  \"\"\"\n",
        "  Generate a MadLibs story based on your input.\n",
        "  \"\"\"\n",
        "\n",
        "  adjective = input(\"Enter an adjective: \")\n",
        "  noun = input(\"Enter a noun: \")\n",
        "  verb = input(\"Enter a verb: \")\n",
        "  adverb = input(\"Enter an adverb: \")\n",
        "  noun2 = input(\"Enter another noun. It can be the same if you want.: \")\n",
        "  verb2 = input(\"Enter another verb. It can be the same if you want.: \")\n",
        "\n",
        "  story = ([f\"What this world really needs is a/an {adjective} {noun}. It would {verb} the {noun2}. Nothing would ever be the same with {adverb} {verb2}.\"])\n",
        "  print(story)"
      ]
    },
    {
      "cell_type": "code",
      "execution_count": null,
      "metadata": {
        "id": "MIQoKw6ocFDC",
        "colab": {
          "base_uri": "https://localhost:8080/",
          "height": 291
        },
        "outputId": "27a08089-5ab7-40dd-9606-8575974d46ef"
      },
      "outputs": [
        {
          "output_type": "error",
          "ename": "KeyboardInterrupt",
          "evalue": "Interrupted by user",
          "traceback": [
            "\u001b[0;31m---------------------------------------------------------------------------\u001b[0m",
            "\u001b[0;31mKeyboardInterrupt\u001b[0m                         Traceback (most recent call last)",
            "\u001b[0;32m<ipython-input-7-b2d305975098>\u001b[0m in \u001b[0;36m<cell line: 1>\u001b[0;34m()\u001b[0m\n\u001b[0;32m----> 1\u001b[0;31m \u001b[0mmadlibs\u001b[0m\u001b[0;34m(\u001b[0m\u001b[0;34m)\u001b[0m\u001b[0;34m\u001b[0m\u001b[0;34m\u001b[0m\u001b[0m\n\u001b[0m",
            "\u001b[0;32m<ipython-input-6-3238de2d7e61>\u001b[0m in \u001b[0;36mmadlibs\u001b[0;34m()\u001b[0m\n\u001b[1;32m      4\u001b[0m   \"\"\"\n\u001b[1;32m      5\u001b[0m \u001b[0;34m\u001b[0m\u001b[0m\n\u001b[0;32m----> 6\u001b[0;31m   \u001b[0madjective\u001b[0m \u001b[0;34m=\u001b[0m \u001b[0minput\u001b[0m\u001b[0;34m(\u001b[0m\u001b[0;34m\"Enter an adjective: \"\u001b[0m\u001b[0;34m)\u001b[0m\u001b[0;34m\u001b[0m\u001b[0;34m\u001b[0m\u001b[0m\n\u001b[0m\u001b[1;32m      7\u001b[0m   \u001b[0mnoun\u001b[0m \u001b[0;34m=\u001b[0m \u001b[0minput\u001b[0m\u001b[0;34m(\u001b[0m\u001b[0;34m\"Enter a noun: \"\u001b[0m\u001b[0;34m)\u001b[0m\u001b[0;34m\u001b[0m\u001b[0;34m\u001b[0m\u001b[0m\n\u001b[1;32m      8\u001b[0m   \u001b[0mverb\u001b[0m \u001b[0;34m=\u001b[0m \u001b[0minput\u001b[0m\u001b[0;34m(\u001b[0m\u001b[0;34m\"Enter a verb: \"\u001b[0m\u001b[0;34m)\u001b[0m\u001b[0;34m\u001b[0m\u001b[0;34m\u001b[0m\u001b[0m\n",
            "\u001b[0;32m/usr/local/lib/python3.10/dist-packages/ipykernel/kernelbase.py\u001b[0m in \u001b[0;36mraw_input\u001b[0;34m(self, prompt)\u001b[0m\n\u001b[1;32m    849\u001b[0m                 \u001b[0;34m\"raw_input was called, but this frontend does not support input requests.\"\u001b[0m\u001b[0;34m\u001b[0m\u001b[0;34m\u001b[0m\u001b[0m\n\u001b[1;32m    850\u001b[0m             )\n\u001b[0;32m--> 851\u001b[0;31m         return self._input_request(str(prompt),\n\u001b[0m\u001b[1;32m    852\u001b[0m             \u001b[0mself\u001b[0m\u001b[0;34m.\u001b[0m\u001b[0m_parent_ident\u001b[0m\u001b[0;34m,\u001b[0m\u001b[0;34m\u001b[0m\u001b[0;34m\u001b[0m\u001b[0m\n\u001b[1;32m    853\u001b[0m             \u001b[0mself\u001b[0m\u001b[0;34m.\u001b[0m\u001b[0m_parent_header\u001b[0m\u001b[0;34m,\u001b[0m\u001b[0;34m\u001b[0m\u001b[0;34m\u001b[0m\u001b[0m\n",
            "\u001b[0;32m/usr/local/lib/python3.10/dist-packages/ipykernel/kernelbase.py\u001b[0m in \u001b[0;36m_input_request\u001b[0;34m(self, prompt, ident, parent, password)\u001b[0m\n\u001b[1;32m    893\u001b[0m             \u001b[0;32mexcept\u001b[0m \u001b[0mKeyboardInterrupt\u001b[0m\u001b[0;34m:\u001b[0m\u001b[0;34m\u001b[0m\u001b[0;34m\u001b[0m\u001b[0m\n\u001b[1;32m    894\u001b[0m                 \u001b[0;31m# re-raise KeyboardInterrupt, to truncate traceback\u001b[0m\u001b[0;34m\u001b[0m\u001b[0;34m\u001b[0m\u001b[0m\n\u001b[0;32m--> 895\u001b[0;31m                 \u001b[0;32mraise\u001b[0m \u001b[0mKeyboardInterrupt\u001b[0m\u001b[0;34m(\u001b[0m\u001b[0;34m\"Interrupted by user\"\u001b[0m\u001b[0;34m)\u001b[0m \u001b[0;32mfrom\u001b[0m \u001b[0;32mNone\u001b[0m\u001b[0;34m\u001b[0m\u001b[0;34m\u001b[0m\u001b[0m\n\u001b[0m\u001b[1;32m    896\u001b[0m             \u001b[0;32mexcept\u001b[0m \u001b[0mException\u001b[0m \u001b[0;32mas\u001b[0m \u001b[0me\u001b[0m\u001b[0;34m:\u001b[0m\u001b[0;34m\u001b[0m\u001b[0;34m\u001b[0m\u001b[0m\n\u001b[1;32m    897\u001b[0m                 \u001b[0mself\u001b[0m\u001b[0;34m.\u001b[0m\u001b[0mlog\u001b[0m\u001b[0;34m.\u001b[0m\u001b[0mwarning\u001b[0m\u001b[0;34m(\u001b[0m\u001b[0;34m\"Invalid Message:\"\u001b[0m\u001b[0;34m,\u001b[0m \u001b[0mexc_info\u001b[0m\u001b[0;34m=\u001b[0m\u001b[0;32mTrue\u001b[0m\u001b[0;34m)\u001b[0m\u001b[0;34m\u001b[0m\u001b[0;34m\u001b[0m\u001b[0m\n",
            "\u001b[0;31mKeyboardInterrupt\u001b[0m: Interrupted by user"
          ]
        }
      ],
      "source": [
        "madlibs()"
      ]
    },
    {
      "cell_type": "markdown",
      "metadata": {
        "id": "zU_dS6OMcF4y"
      },
      "source": [
        "## Number Guesser"
      ]
    },
    {
      "cell_type": "code",
      "source": [
        "def number_guesser():\n",
        "\n",
        "  \"\"\"\n",
        "  Play a number guessing game where the computer generates a random number between 1 and 100, and the user has to guess it in 5 attempts.\n",
        "  \"\"\"\n",
        "  computer_number = random.randint(1, 100)\n",
        "\n",
        "  maxtries = 10\n",
        "\n",
        "  for attempts in range(maxtries):\n",
        "    user_guess = int(input(\"Guess a number between 1 and 100:\"))\n",
        "\n",
        "    if user_guess == computer_number:\n",
        "      print(f\"Congratulations! You guessed the number {computer_number} in {attempts} attempts. I'll let you win for now... But I'll get you next time! :P\")\n",
        "\n",
        "      break\n",
        "    elif user_guess < computer_number:\n",
        "      print(\"Too low! Try again.\")\n",
        "\n",
        "    elif user_guess > computer_number:\n",
        "      print(\"Too high! Try again.\")\n",
        "\n",
        "    else:\n",
        "      print(\"Invalid input. Please try a valid integer.\")\n",
        "\n",
        "  if attempts == maxtries:\n",
        "    print(f\"Haha, got you! The correct number was {computer_number}! Try again, if you dare! >:)\")\n"
      ],
      "metadata": {
        "id": "CKWWRDW3Iiu9"
      },
      "execution_count": null,
      "outputs": []
    },
    {
      "cell_type": "code",
      "source": [
        "number_guesser()"
      ],
      "metadata": {
        "id": "YI_cQSgFLuj-"
      },
      "execution_count": null,
      "outputs": []
    },
    {
      "cell_type": "code",
      "source": [
        "def py_number_guesser():\n",
        "  \"\"\"\n",
        "  Play a number guessing game where the computer generates a random number between 1 and 100, and the user has to guess it in 5 attempts.\n",
        "  \"\"\"\n",
        "  computer_number = random.randint(1, 100)\n",
        "\n",
        "  maxtries = 10\n",
        "\n",
        "  for attempts in range(maxtries):\n",
        "    user_guess = int(input(\"Guess a number between 1 and 100.\"))\n",
        "\n"
      ],
      "metadata": {
        "id": "3cMLlAPNMTu4"
      },
      "execution_count": null,
      "outputs": []
    }
  ],
  "metadata": {
    "colab": {
      "provenance": [],
      "include_colab_link": true
    },
    "kernelspec": {
      "display_name": "Python 3 (ipykernel)",
      "language": "python",
      "name": "python3"
    },
    "language_info": {
      "codemirror_mode": {
        "name": "ipython",
        "version": 3
      },
      "file_extension": ".py",
      "mimetype": "text/x-python",
      "name": "python",
      "nbconvert_exporter": "python",
      "pygments_lexer": "ipython3",
      "version": "3.10.12"
    }
  },
  "nbformat": 4,
  "nbformat_minor": 0
}